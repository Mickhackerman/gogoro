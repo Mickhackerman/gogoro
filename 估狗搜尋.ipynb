{
  "nbformat": 4,
  "nbformat_minor": 0,
  "metadata": {
    "colab": {
      "provenance": []
    },
    "kernelspec": {
      "name": "python3",
      "display_name": "Python 3"
    },
    "language_info": {
      "name": "python"
    }
  },
  "cells": [
    {
      "cell_type": "code",
      "execution_count": 3,
      "metadata": {
        "colab": {
          "base_uri": "https://localhost:8080/"
        },
        "id": "VNEUjqc2yuaZ",
        "outputId": "d66c7242-2b08-42d0-d39a-3531bfb8cb18"
      },
      "outputs": [
        {
          "output_type": "stream",
          "name": "stdout",
          "text": [
            "標題 : 打氣筒- 直立式 - PChome 24h購物24h.pchome.com.tw › 休閒 › 單車/滑板車\n",
            "網址 : https://24h.pchome.com.tw/store/DEAO08&sa=U&ved=2ahUKEwiaheuHnJCCAxVvkO4BHawEA4QQFnoECAoQAg&usg=AOvVaw2qM6wf6KcNaDemKsEbx4uA\n",
            "\n",
            "標題 : 打氣筒/胎壓計- 自行車零/組件 - MOMOwww.momoshop.com.tw › ... › 打氣筒/胎壓計\n",
            "網址 : https://www.momoshop.com.tw/category/DgrpCategory.jsp%3Fd_code%3D4100404011&sa=U&ved=2ahUKEwiaheuHnJCCAxVvkO4BHawEA4QQFnoECAIQAg&usg=AOvVaw1PsWwqKWL_nJuYS7NwH7PG\n",
            "\n",
            "標題 : 打氣筒- 攜帶型 - PChome 24h購物24h.pchome.com.tw › 休閒 › 單車/滑板車\n",
            "網址 : https://24h.pchome.com.tw/store/DEAO26&sa=U&ved=2ahUKEwiaheuHnJCCAxVvkO4BHawEA4QQFnoECAkQAg&usg=AOvVaw2GvQ9vVcWGqkWxNySTkc1B\n",
            "\n",
            "標題 : 打氣筒優惠推薦－2023年10月｜蝦皮購物台灣shopee.tw › 蝦皮購物 › 打氣筒\n",
            "網址 : https://shopee.tw/list/%25E6%2589%2593%25E6%25B0%25A3%25E7%25AD%2592&sa=U&ved=2ahUKEwiaheuHnJCCAxVvkO4BHawEA4QQFnoECAYQAg&usg=AOvVaw1Y4btF6R0sVjdPDwC2fLJd\n",
            "\n",
            "標題 : 打氣筒 - momo購物網m.momoshop.com.tw › search › searchKeyword=打氣...\n",
            "網址 : https://m.momoshop.com.tw/search.momo%3FsearchKeyword%3D%25E6%2589%2593%25E6%25B0%25A3%25E7%25AD%2592&sa=U&ved=2ahUKEwiaheuHnJCCAxVvkO4BHawEA4QQFnoECAcQAg&usg=AOvVaw2k7MsIlWqcBGeFSC_SaBt6\n",
            "\n",
            "標題 : 打氣筒 - Topeakwww.topeak.com › products › 38-打氣筒\n",
            "網址 : https://www.topeak.com/tw/ch/products/38-%25E6%2589%2593%25E6%25B0%25A3%25E7%25AD%2592&sa=U&ved=2ahUKEwiaheuHnJCCAxVvkO4BHawEA4QQFnoECAEQAg&usg=AOvVaw1NFmndXr8qdu0MkqXN842a\n",
            "\n",
            "標題 : 腳踏車打氣筒優惠推薦－2023年10月｜蝦皮購物台灣shopee.tw › 蝦皮購物 › 腳踏車打氣筒\n",
            "網址 : https://shopee.tw/list/%25E8%2585%25B3%25E8%25B8%258F%25E8%25BB%258A%25E6%2589%2593%25E6%25B0%25A3%25E7%25AD%2592&sa=U&ved=2ahUKEwiaheuHnJCCAxVvkO4BHawEA4QQFnoECAgQAg&usg=AOvVaw3QQF8YclaKHLCA6OgICQlh\n",
            "\n",
            "標題 : Amazon 暢銷商品: 最佳氣墊床打氣筒www.amazon.com › bestsellers › home-garden\n",
            "網址 : https://www.amazon.com/-/zh_TW/gp/bestsellers/home-garden/3732481/ref%3Dpd_zg_hrsr_home-garden&sa=U&ved=2ahUKEwiaheuHnJCCAxVvkO4BHawEA4QQFnoECAUQAg&usg=AOvVaw2OdBWduaG_t95dfOwd2gw3\n",
            "\n",
            "標題 : 最佳自行車框架固定打氣筒 - Amazon.comwww.amazon.com › bestsellers › sporting-goods\n",
            "網址 : https://www.amazon.com/-/zh_TW/gp/bestsellers/sporting-goods/16062041/ref%3Dpd_zg_hrsr_sporting-goods&sa=U&ved=2ahUKEwiaheuHnJCCAxVvkO4BHawEA4QQFnoECAQQAg&usg=AOvVaw2O1AIRK8OJslhcOETGt366\n",
            "\n"
          ]
        }
      ],
      "source": [
        "import requests\n",
        "from bs4 import BeautifulSoup\n",
        "\n",
        "# google url\n",
        "google_url = 'https://www.google.com.tw/search'\n",
        "\n",
        "# parameter\n",
        "my_params = {'q': '打氣筒'}\n",
        "\n",
        "r = requests.get(google_url, params = my_params)\n",
        "\n",
        "soup = BeautifulSoup(r.text,'html.parser')\n",
        "\n",
        "#print(soup.prettify())\n",
        "\n",
        "items = soup.select('div.kCrYT > a[href^=\"/url\"]')\n",
        "#print(items)\n",
        "\n",
        "for i in items:\n",
        "    # 標題\n",
        "    print(\"標題 : \" + i.text)\n",
        "    # 網址\n",
        "    print(\"網址 : \" + i.get('href').replace(\"/url?q=\",\"\"))\n",
        "    print()"
      ]
    }
  ]
}